{
 "metadata": {
  "celltoolbar": "Raw Cell Format",
  "name": "",
  "signature": "sha256:64a93c81c7fa87fd1bb2d3d71e8947f51f66b81d19e02a74cc29dd04164d6315"
 },
 "nbformat": 3,
 "nbformat_minor": 0,
 "worksheets": [
  {
   "cells": [
    {
     "cell_type": "markdown",
     "metadata": {},
     "source": [
      "## Import libraries"
     ]
    },
    {
     "cell_type": "code",
     "collapsed": false,
     "input": [
      "from __future__ import division\n",
      "%matplotlib inline\n",
      "import numpy as np\n",
      "import matplotlib.pyplot as plt\n",
      "import pylab\n",
      "from math import sqrt\n",
      "from matplotlib import rc\n",
      "import scipy.stats as stats\n",
      "import pandas as pd\n",
      "from numpy.linalg import norm\n",
      "\n"
     ],
     "language": "python",
     "metadata": {},
     "outputs": [],
     "prompt_number": 210
    },
    {
     "cell_type": "markdown",
     "metadata": {},
     "source": [
      "## Load data, calculate lscd, x_bar, a, b"
     ]
    },
    {
     "cell_type": "code",
     "collapsed": false,
     "input": [
      "df = pd.read_table('Voglestein.csv', header=0, index_col=0, sep=',')\n",
      "\n",
      "y = df['Life incident rate']\n",
      "lscd = df['Total_Stem_Cells']*(df['Devision_year']*80 + 2) -2 \n",
      "\n",
      "df['lscd'] = lscd\n",
      "\n",
      "x_bar = df['Total_Stem_Cells']*((df['d1']+df['d2'])*40 + 2) -2 \n",
      "a = df['Total_Stem_Cells']*(df['d1']*80 + 2) -2 \n",
      "b = df['Total_Stem_Cells']*(df['d2']*80 + 2) -2 \n",
      "\n",
      "df['x-bar'] = x_bar\n",
      "df['a'] = a\n",
      "df['b'] = b\n",
      "\n"
     ],
     "language": "python",
     "metadata": {},
     "outputs": [],
     "prompt_number": 211
    },
    {
     "cell_type": "code",
     "collapsed": false,
     "input": [
      "# Take a look at top 5 entries\n",
      "df.head()"
     ],
     "language": "python",
     "metadata": {},
     "outputs": [
      {
       "html": [
        "<div style=\"max-height:1000px;max-width:1500px;overflow:auto;\">\n",
        "<table border=\"1\" class=\"dataframe\">\n",
        "  <thead>\n",
        "    <tr style=\"text-align: right;\">\n",
        "      <th></th>\n",
        "      <th>Life incident rate</th>\n",
        "      <th>Total_cells_tissue</th>\n",
        "      <th>Total_Stem_Cells</th>\n",
        "      <th>lscd</th>\n",
        "      <th>Devision_year</th>\n",
        "      <th>d1</th>\n",
        "      <th>d2</th>\n",
        "      <th>x-bar</th>\n",
        "      <th>a</th>\n",
        "      <th>b</th>\n",
        "    </tr>\n",
        "    <tr>\n",
        "      <th>Cancer</th>\n",
        "      <th></th>\n",
        "      <th></th>\n",
        "      <th></th>\n",
        "      <th></th>\n",
        "      <th></th>\n",
        "      <th></th>\n",
        "      <th></th>\n",
        "      <th></th>\n",
        "      <th></th>\n",
        "      <th></th>\n",
        "    </tr>\n",
        "  </thead>\n",
        "  <tbody>\n",
        "    <tr>\n",
        "      <th>AML</th>\n",
        "      <td> 0.0041</td>\n",
        "      <td> 3.000000e+12</td>\n",
        "      <td>  135000000</td>\n",
        "      <td> 1.298700e+11</td>\n",
        "      <td> 12.0</td>\n",
        "      <td>  6.4</td>\n",
        "      <td> 23.66</td>\n",
        "      <td> 1.625940e+11</td>\n",
        "      <td> 6.939000e+10</td>\n",
        "      <td> 2.557980e+11</td>\n",
        "    </tr>\n",
        "    <tr>\n",
        "      <th>BCC</th>\n",
        "      <td> 0.3000</td>\n",
        "      <td> 2.000000e+11</td>\n",
        "      <td> 5820000000</td>\n",
        "      <td> 3.550200e+12</td>\n",
        "      <td>  7.6</td>\n",
        "      <td>  7.6</td>\n",
        "      <td>  7.60</td>\n",
        "      <td> 3.550200e+12</td>\n",
        "      <td> 3.550200e+12</td>\n",
        "      <td> 3.550200e+12</td>\n",
        "    </tr>\n",
        "    <tr>\n",
        "      <th>CLL</th>\n",
        "      <td> 0.0052</td>\n",
        "      <td> 3.000000e+12</td>\n",
        "      <td>  135000000</td>\n",
        "      <td> 1.298700e+11</td>\n",
        "      <td> 12.0</td>\n",
        "      <td>  6.4</td>\n",
        "      <td> 23.66</td>\n",
        "      <td> 1.625940e+11</td>\n",
        "      <td> 6.939000e+10</td>\n",
        "      <td> 2.557980e+11</td>\n",
        "    </tr>\n",
        "    <tr>\n",
        "      <th>Colorectal</th>\n",
        "      <td> 0.0480</td>\n",
        "      <td> 3.000000e+10</td>\n",
        "      <td>  200000000</td>\n",
        "      <td> 1.168400e+12</td>\n",
        "      <td> 73.0</td>\n",
        "      <td> 73.0</td>\n",
        "      <td> 73.00</td>\n",
        "      <td> 1.168400e+12</td>\n",
        "      <td> 1.168400e+12</td>\n",
        "      <td> 1.168400e+12</td>\n",
        "    </tr>\n",
        "    <tr>\n",
        "      <th>Colorectal FAP</th>\n",
        "      <td> 1.0000</td>\n",
        "      <td> 3.000000e+10</td>\n",
        "      <td>  200000000</td>\n",
        "      <td> 1.168400e+12</td>\n",
        "      <td> 73.0</td>\n",
        "      <td> 73.0</td>\n",
        "      <td> 73.00</td>\n",
        "      <td> 1.168400e+12</td>\n",
        "      <td> 1.168400e+12</td>\n",
        "      <td> 1.168400e+12</td>\n",
        "    </tr>\n",
        "  </tbody>\n",
        "</table>\n",
        "</div>"
       ],
       "metadata": {},
       "output_type": "pyout",
       "prompt_number": 212,
       "text": [
        "                Life incident rate  Total_cells_tissue  Total_Stem_Cells  \\\n",
        "Cancer                                                                     \n",
        "AML                         0.0041        3.000000e+12         135000000   \n",
        "BCC                         0.3000        2.000000e+11        5820000000   \n",
        "CLL                         0.0052        3.000000e+12         135000000   \n",
        "Colorectal                  0.0480        3.000000e+10         200000000   \n",
        "Colorectal FAP              1.0000        3.000000e+10         200000000   \n",
        "\n",
        "                        lscd  Devision_year    d1     d2         x-bar  \\\n",
        "Cancer                                                                   \n",
        "AML             1.298700e+11           12.0   6.4  23.66  1.625940e+11   \n",
        "BCC             3.550200e+12            7.6   7.6   7.60  3.550200e+12   \n",
        "CLL             1.298700e+11           12.0   6.4  23.66  1.625940e+11   \n",
        "Colorectal      1.168400e+12           73.0  73.0  73.00  1.168400e+12   \n",
        "Colorectal FAP  1.168400e+12           73.0  73.0  73.00  1.168400e+12   \n",
        "\n",
        "                           a             b  \n",
        "Cancer                                      \n",
        "AML             6.939000e+10  2.557980e+11  \n",
        "BCC             3.550200e+12  3.550200e+12  \n",
        "CLL             6.939000e+10  2.557980e+11  \n",
        "Colorectal      1.168400e+12  1.168400e+12  \n",
        "Colorectal FAP  1.168400e+12  1.168400e+12  "
       ]
      }
     ],
     "prompt_number": 212
    },
    {
     "cell_type": "markdown",
     "metadata": {},
     "source": [
      "### Now to some analysis"
     ]
    },
    {
     "cell_type": "code",
     "collapsed": false,
     "input": [
      "xi = 3; yi = 0\n",
      "title = \"Original TV Paper. Log(x) vs Log(Y) rho = %f,  pval = %.2e\" %stats.pearsonr(np.log(df[df.columns[xi]]), np.log(df[df.columns[yi]]))\n",
      "df.plot(xi, yi, kind='scatter', logx=True, logy=True, title=title);"
     ],
     "language": "python",
     "metadata": {},
     "outputs": [
      {
       "metadata": {},
       "output_type": "display_data",
       "png": "[encoded data removed]",
       "text": [
        "<matplotlib.figure.Figure at 0x1094c9950>"
       ]
      }
     ],
     "prompt_number": 213
    },
    {
     "cell_type": "code",
     "collapsed": false,
     "input": [
      "xi = 3; yi = 0\n",
      "title = \"TV Paper. X vs Y rho = %f,  pval = %.2e\" %stats.pearsonr(df[df.columns[xi]], df[df.columns[yi]])\n",
      "df.plot(xi, yi, kind='scatter', logx=True, logy=True, title=title);"
     ],
     "language": "python",
     "metadata": {},
     "outputs": [
      {
       "metadata": {},
       "output_type": "display_data",
       "png": "[encoded data removed]",
       "text": [
        "<matplotlib.figure.Figure at 0x109df6b10>"
       ]
      }
     ],
     "prompt_number": 214
    },
    {
     "cell_type": "code",
     "collapsed": false,
     "input": [
      "xi = 7; yi = 0\n",
      "title = \"Mean (d). rho = %f,  pval = %.2e\" %stats.pearsonr(np.log(df[df.columns[xi]]), np.log(df[df.columns[yi]]))\n",
      "df.plot(xi, yi, kind='scatter', logx=True, logy=True, title=title);"
     ],
     "language": "python",
     "metadata": {},
     "outputs": [
      {
       "metadata": {},
       "output_type": "display_data",
       "png": "[encoded data removed]",
       "text": [
        "<matplotlib.figure.Figure at 0x109a7b350>"
       ]
      }
     ],
     "prompt_number": 215
    },
    {
     "cell_type": "code",
     "collapsed": false,
     "input": [
      "xi = 8; yi = 0\n",
      "title = \"LOWER estimate (d). rho = %f,  pval = %.2e\" %stats.pearsonr(np.log(df[df.columns[xi]]), np.log(df[df.columns[yi]]))\n",
      "df.plot(xi, yi, kind='scatter', logx=True, logy=True, title=title);"
     ],
     "language": "python",
     "metadata": {},
     "outputs": [
      {
       "metadata": {},
       "output_type": "display_data",
       "png": "[encoded data removed]",
       "text": [
        "<matplotlib.figure.Figure at 0x1094a9110>"
       ]
      }
     ],
     "prompt_number": 216
    },
    {
     "cell_type": "code",
     "collapsed": false,
     "input": [
      "xi = 9; yi = 0\n",
      "title = \"UPPER estimate (d). rho = %f  pval = %.2e \" %stats.pearsonr(np.log(df[df.columns[xi]]), np.log(df[df.columns[yi]]))\n",
      "df.plot(xi, yi, kind='scatter', logx=True, logy=True, title=title);\n",
      "plt.show()"
     ],
     "language": "python",
     "metadata": {},
     "outputs": [
      {
       "metadata": {},
       "output_type": "display_data",
       "png": "[encoded data removed]",
       "text": [
        "<matplotlib.figure.Figure at 0x1094c9850>"
       ]
      }
     ],
     "prompt_number": 217
    },
    {
     "cell_type": "markdown",
     "metadata": {},
     "source": [
      "# Lower bound on Pearson's $\\rho$ -- Nitin\n",
      "## All $\\mu_x$ and $\\mu_{xy}$ refers to $\\mu_\\bar{x}$ and $\\mu_{\\bar{x}y}$ in the following implementation.\n"
     ]
    },
    {
     "cell_type": "code",
     "collapsed": false,
     "input": [
      "x = np.array(df['x-bar'])\n",
      "y = np.array(df['Life incident rate'])\n",
      "delta = np.log10(df['b'])-np.log10(df['a'])\n",
      "\n",
      "x = np.log10(x)\n",
      "y = np.log10(y)\n",
      "delta = np.array(delta)/2\n",
      "n = len(x)\n",
      "\n",
      "# first, calclulate the correlation\n",
      "mu_xy = np.mean(x*y)\n",
      "mu_x = np.mean(x)\n",
      "mu_y = np.mean(y)\n",
      "sigma_x = np.std(x)\n",
      "sigma_y = np.std(y)\n",
      "\n",
      "rho = (mu_xy - mu_x*mu_y)/(sigma_x*sigma_y)\n",
      "\n",
      "print \"rho: %f, coeff. of determination: %f\"% (rho, rho**2)\n",
      "\n",
      "y_plus = np.array([i if i > 0 else 0 for i in y])\n",
      "xi_minus_mu_x_positive = np.array([i if i > 0 else 0 for i in x - mu_x])\n",
      "mu_xy -= np.mean(delta*y_plus)\n",
      "mu_x += norm(delta, 1)/n\n",
      "\n",
      "\n",
      "alpha = ( 1/(n-1) )* (norm(delta, 2)**2 + \n",
      "                      3*norm(delta, 1)**2/n + \n",
      "                      2*np.sum(delta*xi_minus_mu_x_positive)\n",
      "                      )\n",
      "\n",
      "sigma_x += sqrt(sigma_x + alpha)\n",
      "\n",
      "rho_lower = (mu_xy - mu_x*mu_y)/(sigma_x*sigma_y)\n",
      "\n",
      "print \"rho lower bound: %f, coeff. of determination lower bound: %f\"% (rho_lower, rho_lower**2)"
     ],
     "language": "python",
     "metadata": {},
     "outputs": [
      {
       "output_type": "stream",
       "stream": "stdout",
       "text": [
        "rho: 0.802349, coeff. of determination: 0.643765\n",
        "rho lower bound: 0.480839, coeff. of determination lower bound: 0.231206\n"
       ]
      }
     ],
     "prompt_number": 218
    },
    {
     "cell_type": "markdown",
     "metadata": {},
     "source": [
      "# Lower bound on Pearson's $\\rho$ -- Hema"
     ]
    },
    {
     "cell_type": "code",
     "collapsed": false,
     "input": [
      "x = np.array(df['x-bar'])\n",
      "y = np.array(df['Life incident rate'])\n",
      "delta = np.log10(df['b'])-np.log10(df['a'])\n",
      "\n",
      "x = np.log10(x)\n",
      "y = np.log10(y)\n",
      "delta = np.array(delta)/2\n",
      "n = len(x)\n",
      "#delta = np.array([math.log10(d) if d else 0 for d in delta])\n",
      "#print x[:10]\n",
      "#print delta[:10]\n",
      "#print y[:10]\n",
      "\n",
      "# first, calclulate the correlation\n",
      "mu_xy = np.mean(x*y)\n",
      "mu_x = np.mean(x)\n",
      "mu_y = np.mean(y)\n",
      "sigma_x = np.std(x)\n",
      "sigma_y = np.std(y)\n",
      "\n",
      "rho = (mu_xy - mu_x*mu_y)/(sigma_x*sigma_y)\n",
      "\n",
      "print \"rho: %f, coeff. of determination: %f\"% (rho, rho**2)\n",
      "y_plus = np.array([i if i > 0 else 0 for i in y])\n",
      "alpha = ( n/(n-1) )* (norm(delta, 2)**2/n + \n",
      "                      2*norm(delta, 1)*mu_x +\n",
      "                      (2*mu_x + norm(delta, 1)/n)*norm(delta, 1)/n \n",
      "                      )\n",
      "mu_xy -= np.mean(delta*y_plus)\n",
      "mu_x += norm(delta, 1)/n\n",
      "sigma_x += sqrt(sigma_x + alpha)\n",
      "\n",
      "rho_lower = (mu_xy - mu_x*mu_y)/(sigma_x*sigma_y)\n",
      "\n",
      "print \"rho lower bound: %f, coeff. of determination lower bound: %f\"% (rho_lower, rho_lower**2)\n",
      "\n",
      "\n",
      "#print norm(delta, 1)*mu_y/n, np.mean(delta*y_plus)"
     ],
     "language": "python",
     "metadata": {},
     "outputs": [
      {
       "output_type": "stream",
       "stream": "stdout",
       "text": [
        "rho: 0.802349, coeff. of determination: 0.643765\n",
        "rho lower bound: 0.219758, coeff. of determination lower bound: 0.048293\n"
       ]
      }
     ],
     "prompt_number": 219
    },
    {
     "cell_type": "markdown",
     "metadata": {},
     "source": [
      "# This time compute lower bound (nitin) for $\\rho(x, y)$. Earler it was $\\rho(\\log(x),\\log(y))$\n",
      "## All $\\mu_x$ and $\\mu_{xy}$ refers to $\\mu_\\bar{x}$ and $\\mu_{\\bar{x}y}$ in the following implementation.\n"
     ]
    },
    {
     "cell_type": "code",
     "collapsed": false,
     "input": [
      "x = np.array(df['x-bar'])\n",
      "y = np.array(df['Life incident rate'])\n",
      "delta = df['b']-df['a']\n",
      "\n",
      "delta = np.array(delta)/2\n",
      "n = len(x)\n",
      "\n",
      "# first, calclulate the correlation\n",
      "mu_xy = np.mean(x*y)\n",
      "mu_x = np.mean(x)\n",
      "mu_y = np.mean(y)\n",
      "sigma_x = np.std(x)\n",
      "sigma_y = np.std(y)\n",
      "\n",
      "rho = (mu_xy - mu_x*mu_y)/(sigma_x*sigma_y)\n",
      "\n",
      "print \"rho: %f, coeff. of determination: %f\"% (rho, rho**2)\n",
      "\n",
      "y_plus = np.array([i if i > 0 else 0 for i in y])\n",
      "xi_minus_mu_x_positive = np.array([i if i > 0 else 0 for i in x - mu_x])\n",
      "mu_xy -= np.mean(delta*y_plus)\n",
      "mu_x += norm(delta, 1)/n\n",
      "\n",
      "\n",
      "alpha = ( 1/(n-1) )* (norm(delta, 2)**2 + \n",
      "                      3*norm(delta, 1)**2/n + \n",
      "                      2*np.sum(delta*xi_minus_mu_x_positive)\n",
      "                      )\n",
      "\n",
      "sigma_x += sqrt(sigma_x + alpha)\n",
      "\n",
      "rho_lower = (mu_xy - mu_x*mu_y)/(sigma_x*sigma_y)\n",
      "\n",
      "print \"rho lower bound: %f, coeff. of determination lower bound: %f\"% (rho_lower, rho_lower**2)"
     ],
     "language": "python",
     "metadata": {},
     "outputs": [
      {
       "output_type": "stream",
       "stream": "stdout",
       "text": [
        "rho: 0.532759, coeff. of determination: 0.283832\n",
        "rho lower bound: 0.501547, coeff. of determination lower bound: 0.251549\n"
       ]
      }
     ],
     "prompt_number": 220
    },
    {
     "cell_type": "markdown",
     "metadata": {},
     "source": [
      "## Remarks\n",
      "1. The lower bound seems to be much tighter in the case of $\\rho(x, y)$ than $\\rho(\\log(x),\\log(y))$ \n",
      "2. The bound on the coefficient of determination $r^2 = 0.25$ means that **bad-luck** (stochastic errors during DNA replication) explains *at least* 25% of the *variation in the incidence of cancer across tissue types* which is still significant in my opinion. We emphasize that this variation does **not** explain the role of bad-luck in individuals getting cancers.\n",
      "\n",
      "\n"
     ]
    },
    {
     "cell_type": "markdown",
     "metadata": {},
     "source": [
      "## Lower bound computation: intermediate inequalities\n",
      "\n",
      "Let $x_i, i = 1, 2, \\ldots, n$ and $y_i, i = 1, 2, \\ldots, n$ be observations of the random variables $X$ and $Y$ respectively. It is assumed that both are real valued random variables, and $X$ takes only non-negatives values. Also assume that for $n-m$ obsevations of $X$ falls under interval i.e. $x_i \\in [a_i, b_i], i = m+1, \\ldots, n$. Let $\\Delta_i = \\left|b_i-a_i\\right|/2$ be the half interval width and $\\bar{x} = (a_i-b_i)/2$ be the mean points of the interval. We want to see how much the Pearson's correlation coefficient $\\rho(x, y)$ can deviate in this case from the $\\rho(\\bar{x}, y)$ which is computed from mean observations of the random variable $X$. The $\\|\\cdot\\|_p$ denotes standard $l_p$ norm and $z^+ = max\\{0, z\\}$ denotes non-negative part of any number $z$. The following inequalities can be established through some tedious but otherwise straight forward calculations.\n",
      "\n",
      "\\begin{equation} \\left| \\mu_x - \\mu_\\bar{x} \\right| \\leq \\|\\Delta\\|_1/n \\end{equation}\n",
      "\n",
      "\\begin{equation} \\left| \\mu_{xy} - \\mu_{\\bar{x}y} \\right| \\leq \\sum_{i=m+1}^n \\Delta_i y_i^+ \\end{equation}\n",
      "\n",
      "\\begin{equation} \\left| \\sigma_x^2 - \\sigma_\\bar{x}^2 \\right| \\leq \\frac{1}{n-1}\\big[ \\|\\Delta\\|^2_2 + \\frac{3}{n} \\|\\Delta\\|^2_1 +2\\sum_{i=m+1}^n \\Delta_i (\\bar{x}_i - \\mu_\\bar{x})^+ \\big]\\end{equation}\n",
      "\n",
      "With these ineualities, we can find the lower bound on $\\rho(x, y)$. Recall that $\\rho(\\bar{x}, y)$ is defined as\n",
      "\n",
      "\n",
      "\\begin{equation} \\rho(\\bar{x},y) = \\frac{\\mu_{\\bar{x}y} - \\mu_\\bar{x}\\mu_{y} }{\\sigma_\\bar{x} \\sigma_y} \\end{equation}\n",
      "\n",
      "\n",
      "\\begin{equation} \\rho(x,y) \\geq \\frac{\\mu_{\\bar{x}y} - \\mu_\\bar{x}\\mu_{y} - \\beta}{(\\sqrt{\\sigma_\\bar{x}+\\alpha}) \\sigma_y} \\end{equation}\n",
      "\n",
      "where\n",
      "\n",
      "\\begin{equation} \\beta = \\frac{\\mu_y\\|\\Delta\\|_1}{n} + \\sum_{i=m+1}^n \\Delta_i y_i^+  \\end{equation}\n",
      "\n",
      "and\n",
      "\n",
      "\\begin{equation} \\alpha = \\|\\Delta\\|^2_2 + \\frac{3}{n} \\|\\Delta\\|^2_1 +2\\sum_{i=m+1}^n \\Delta_i (\\bar{x}_i - \\mu_\\bar{x})^+ \\end{equation}"
     ]
    }
   ],
   "metadata": {}
  }
 ]
}