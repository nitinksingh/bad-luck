{
 "metadata": {
  "celltoolbar": "Raw Cell Format",
  "name": "",
  "signature": "sha256:9db46b7d24a9bd2d96837b17e832fa0124d215d8a8bcda7652c0f2df0f895bcf"
 },
 "nbformat": 3,
 "nbformat_minor": 0,
 "worksheets": [
  {
   "cells": [
    {
     "cell_type": "markdown",
     "metadata": {},
     "source": [
      "## Import libraries"
     ]
    },
    {
     "cell_type": "code",
     "collapsed": false,
     "input": [
      "from __future__ import division\n",
      "%matplotlib inline\n",
      "import numpy as np\n",
      "import matplotlib.pyplot as plt\n",
      "import pylab\n",
      "from math import sqrt\n",
      "from matplotlib import rc\n",
      "import scipy.stats as stats\n",
      "import pandas as pd\n",
      "from numpy.linalg import norm\n",
      "\n"
     ],
     "language": "python",
     "metadata": {},
     "outputs": [],
     "prompt_number": 11
    },
    {
     "cell_type": "markdown",
     "metadata": {},
     "source": [
      "## Load data, calculate lscd, x_bar, a, b"
     ]
    },
    {
     "cell_type": "code",
     "collapsed": false,
     "input": [
      "df = pd.read_table('Voglestein.csv', header=0, index_col=0, sep=',')\n",
      "\n",
      "y = df['Life incident rate']\n",
      "lscd = df['Total_Stem_Cells']*(df['Devision_year']*80 + 2) -2 \n",
      "\n",
      "df['lscd'] = lscd\n",
      "\n",
      "x_bar = df['Total_Stem_Cells']*((df['d1']+df['d2'])*40 + 2) -2 \n",
      "a = df['Total_Stem_Cells']*(df['d1']*80 + 2) -2 \n",
      "b = df['Total_Stem_Cells']*(df['d2']*80 + 2) -2 \n",
      "\n",
      "df['x-bar'] = x_bar\n",
      "df['a'] = a\n",
      "df['b'] = b\n",
      "\n"
     ],
     "language": "python",
     "metadata": {},
     "outputs": [],
     "prompt_number": 12
    },
    {
     "cell_type": "code",
     "collapsed": false,
     "input": [
      "# Take a look at top 5 entries\n",
      "df.head()"
     ],
     "language": "python",
     "metadata": {},
     "outputs": [
      {
       "html": [
        "<div style=\"max-height:1000px;max-width:1500px;overflow:auto;\">\n",
        "<table border=\"1\" class=\"dataframe\">\n",
        "  <thead>\n",
        "    <tr style=\"text-align: right;\">\n",
        "      <th></th>\n",
        "      <th>Life incident rate</th>\n",
        "      <th>Total_cells_tissue</th>\n",
        "      <th>Total_Stem_Cells</th>\n",
        "      <th>lscd</th>\n",
        "      <th>Devision_year</th>\n",
        "      <th>d1</th>\n",
        "      <th>d2</th>\n",
        "      <th>x-bar</th>\n",
        "      <th>a</th>\n",
        "      <th>b</th>\n",
        "    </tr>\n",
        "    <tr>\n",
        "      <th>Cancer</th>\n",
        "      <th></th>\n",
        "      <th></th>\n",
        "      <th></th>\n",
        "      <th></th>\n",
        "      <th></th>\n",
        "      <th></th>\n",
        "      <th></th>\n",
        "      <th></th>\n",
        "      <th></th>\n",
        "      <th></th>\n",
        "    </tr>\n",
        "  </thead>\n",
        "  <tbody>\n",
        "    <tr>\n",
        "      <th>AML</th>\n",
        "      <td> 0.0041</td>\n",
        "      <td> 3.000000e+12</td>\n",
        "      <td>  135000000</td>\n",
        "      <td> 1.298700e+11</td>\n",
        "      <td> 12.0</td>\n",
        "      <td>  6.4</td>\n",
        "      <td> 23.66</td>\n",
        "      <td> 1.625940e+11</td>\n",
        "      <td> 6.939000e+10</td>\n",
        "      <td> 2.557980e+11</td>\n",
        "    </tr>\n",
        "    <tr>\n",
        "      <th>BCC</th>\n",
        "      <td> 0.3000</td>\n",
        "      <td> 2.000000e+11</td>\n",
        "      <td> 5820000000</td>\n",
        "      <td> 3.550200e+12</td>\n",
        "      <td>  7.6</td>\n",
        "      <td>  7.6</td>\n",
        "      <td>  7.60</td>\n",
        "      <td> 3.550200e+12</td>\n",
        "      <td> 3.550200e+12</td>\n",
        "      <td> 3.550200e+12</td>\n",
        "    </tr>\n",
        "    <tr>\n",
        "      <th>CLL</th>\n",
        "      <td> 0.0052</td>\n",
        "      <td> 3.000000e+12</td>\n",
        "      <td>  135000000</td>\n",
        "      <td> 1.298700e+11</td>\n",
        "      <td> 12.0</td>\n",
        "      <td>  6.4</td>\n",
        "      <td> 23.66</td>\n",
        "      <td> 1.625940e+11</td>\n",
        "      <td> 6.939000e+10</td>\n",
        "      <td> 2.557980e+11</td>\n",
        "    </tr>\n",
        "    <tr>\n",
        "      <th>Colorectal</th>\n",
        "      <td> 0.0480</td>\n",
        "      <td> 3.000000e+10</td>\n",
        "      <td>  200000000</td>\n",
        "      <td> 1.168400e+12</td>\n",
        "      <td> 73.0</td>\n",
        "      <td> 73.0</td>\n",
        "      <td> 73.00</td>\n",
        "      <td> 1.168400e+12</td>\n",
        "      <td> 1.168400e+12</td>\n",
        "      <td> 1.168400e+12</td>\n",
        "    </tr>\n",
        "    <tr>\n",
        "      <th>Colorectal FAP</th>\n",
        "      <td> 1.0000</td>\n",
        "      <td> 3.000000e+10</td>\n",
        "      <td>  200000000</td>\n",
        "      <td> 1.168400e+12</td>\n",
        "      <td> 73.0</td>\n",
        "      <td> 73.0</td>\n",
        "      <td> 73.00</td>\n",
        "      <td> 1.168400e+12</td>\n",
        "      <td> 1.168400e+12</td>\n",
        "      <td> 1.168400e+12</td>\n",
        "    </tr>\n",
        "  </tbody>\n",
        "</table>\n",
        "</div>"
       ],
       "metadata": {},
       "output_type": "pyout",
       "prompt_number": 13,
       "text": [
        "                Life incident rate  Total_cells_tissue  Total_Stem_Cells  \\\n",
        "Cancer                                                                     \n",
        "AML                         0.0041        3.000000e+12         135000000   \n",
        "BCC                         0.3000        2.000000e+11        5820000000   \n",
        "CLL                         0.0052        3.000000e+12         135000000   \n",
        "Colorectal                  0.0480        3.000000e+10         200000000   \n",
        "Colorectal FAP              1.0000        3.000000e+10         200000000   \n",
        "\n",
        "                        lscd  Devision_year    d1     d2         x-bar  \\\n",
        "Cancer                                                                   \n",
        "AML             1.298700e+11           12.0   6.4  23.66  1.625940e+11   \n",
        "BCC             3.550200e+12            7.6   7.6   7.60  3.550200e+12   \n",
        "CLL             1.298700e+11           12.0   6.4  23.66  1.625940e+11   \n",
        "Colorectal      1.168400e+12           73.0  73.0  73.00  1.168400e+12   \n",
        "Colorectal FAP  1.168400e+12           73.0  73.0  73.00  1.168400e+12   \n",
        "\n",
        "                           a             b  \n",
        "Cancer                                      \n",
        "AML             6.939000e+10  2.557980e+11  \n",
        "BCC             3.550200e+12  3.550200e+12  \n",
        "CLL             6.939000e+10  2.557980e+11  \n",
        "Colorectal      1.168400e+12  1.168400e+12  \n",
        "Colorectal FAP  1.168400e+12  1.168400e+12  "
       ]
      }
     ],
     "prompt_number": 13
    },
    {
     "cell_type": "markdown",
     "metadata": {},
     "source": [
      "### Now to some analysis"
     ]
    },
    {
     "cell_type": "code",
     "collapsed": false,
     "input": [
      "xi = 3; yi = 0\n",
      "title = \"Original TV Paper. rho = %f,  pval = %.2e\" %stats.pearsonr(np.log(df[df.columns[xi]]), np.log(df[df.columns[yi]]))\n",
      "df.plot(xi, yi, kind='scatter', logx=True, logy=True, title=title);"
     ],
     "language": "python",
     "metadata": {},
     "outputs": [
      {
       "metadata": {},
       "output_type": "display_data",
       "png": "[encoded data removed]",
       "text": [
        "<matplotlib.figure.Figure at 0x10879e710>"
       ]
      }
     ],
     "prompt_number": 14
    },
    {
     "cell_type": "code",
     "collapsed": false,
     "input": [
      "xi = 7; yi = 0\n",
      "title = \"Mean (d). rho = %f,  pval = %.2e\" %stats.pearsonr(np.log(df[df.columns[xi]]), np.log(df[df.columns[yi]]))\n",
      "df.plot(xi, yi, kind='scatter', logx=True, logy=True, title=title);"
     ],
     "language": "python",
     "metadata": {},
     "outputs": [
      {
       "metadata": {},
       "output_type": "display_data",
       "png": "[encoded data removed]",
       "text": [
        "<matplotlib.figure.Figure at 0x10879e150>"
       ]
      }
     ],
     "prompt_number": 15
    },
    {
     "cell_type": "code",
     "collapsed": false,
     "input": [
      "xi = 8; yi = 0\n",
      "title = \"LOWER estimate (d). rho = %f,  pval = %.2e\" %stats.pearsonr(np.log(df[df.columns[xi]]), np.log(df[df.columns[yi]]))\n",
      "df.plot(xi, yi, kind='scatter', logx=True, logy=True, title=title);"
     ],
     "language": "python",
     "metadata": {},
     "outputs": [
      {
       "metadata": {},
       "output_type": "display_data",
       "png": "[encoded data removed]",
       "text": [
        "<matplotlib.figure.Figure at 0x10a71e150>"
       ]
      }
     ],
     "prompt_number": 16
    },
    {
     "cell_type": "code",
     "collapsed": false,
     "input": [
      "xi = 9; yi = 0\n",
      "title = \"UPPER estimate (d). rho = %f  pval = %.2e \" %stats.pearsonr(np.log(df[df.columns[xi]]), np.log(df[df.columns[yi]]))\n",
      "df.plot(xi, yi, kind='scatter', logx=True, logy=True, title=title);\n",
      "plt.show()"
     ],
     "language": "python",
     "metadata": {},
     "outputs": [
      {
       "metadata": {},
       "output_type": "display_data",
       "png": "[encoded data removed]",
       "text": [
        "<matplotlib.figure.Figure at 0x10a72c110>"
       ]
      }
     ],
     "prompt_number": 17
    },
    {
     "cell_type": "markdown",
     "metadata": {},
     "source": [
      "# Lower Estimate for the Pearson's correlation coefficient $\\rho$\n",
      "\n",
      "## $\\left|\\mu_x - \\mu_\\bar{x}\\right| \\leq \\frac{1}{n} \\|\\Delta\\|_1 $\n",
      "\n",
      "## $\\left|\\mu_{xy} - \\mu_{\\bar{x}y}\\right| \\leq \\frac{1}{n} \\|\\Delta\\|_1 $"
     ]
    },
    {
     "cell_type": "code",
     "collapsed": false,
     "input": [
      "x = np.array(df['x-bar'])\n",
      "y = np.array(df['Life incident rate'])\n",
      "delta = np.log10(df['b'])-np.log10(df['a'])\n",
      "\n",
      "x = np.log10(x)\n",
      "y = np.log10(y)\n",
      "delta = np.array(delta)/2\n",
      "n = len(x)\n",
      "#delta = np.array([math.log10(d) if d else 0 for d in delta])\n",
      "#print x[:10]\n",
      "#print delta[:10]\n",
      "#print y[:10]\n",
      "\n",
      "# first, calclulate the correlation\n",
      "mu_xy = np.mean(x*y)\n",
      "mu_x = np.mean(x)\n",
      "mu_y = np.mean(y)\n",
      "sigma_x = np.std(x)\n",
      "sigma_y = np.std(y)\n",
      "\n",
      "rho = (mu_xy - mu_x*mu_y)/(sigma_x*sigma_y)\n",
      "\n",
      "print \"rho: %f, coeff. of determination: %f\"% (rho, rho**2)\n",
      "#print mu_xy, mu_x, sigma_x, sigma_y\n",
      "\n",
      "y_plus = np.array([i if i > 0 else 0 for i in y])\n",
      "xi_minus_mu_x_positive = np.array([i if i > 0 else 0 for i in x - mu_x])\n",
      "mu_xy -= np.mean(delta*y_plus)\n",
      "mu_x += np.mean(delta)\n",
      "\n",
      "\n",
      "alpha = ( 1/(n-1) )* (norm(delta, 2)**2 + 3*norm(delta, 1)**2/n + 2*np.sum(delta*xi_minus_mu_x_positive))\n",
      "\n",
      "sigma_x += sqrt(sigma_x + alpha)\n",
      "\n",
      "rho_lower = (mu_xy - mu_x*mu_y)/(sigma_x*sigma_y)\n",
      "\n",
      "print \"rho lower bound: %f, coeff. of determination lower bound: %f\"% (rho_lower, rho_lower**2)\n",
      "#print mu_xy, mu_x, sigma_x, sigma_y, y_plus, y, xi_mu_x\n",
      "\n"
     ],
     "language": "python",
     "metadata": {},
     "outputs": [
      {
       "output_type": "stream",
       "stream": "stdout",
       "text": [
        "rho: 0.802349, coeff. of determination: 0.643765\n",
        "rho lower bound: 0.480839, coeff. of determination lower bound: 0.231206\n"
       ]
      }
     ],
     "prompt_number": 18
    }
   ],
   "metadata": {}
  }
 ]
}